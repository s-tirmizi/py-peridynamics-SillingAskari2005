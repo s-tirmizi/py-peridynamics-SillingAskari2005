{
 "cells": [
  {
   "cell_type": "markdown",
   "metadata": {},
   "source": [
    "# **Simulation of a crack growth in a square plate based on Peridynamic Theory**"
   ]
  },
  {
   "cell_type": "markdown",
   "metadata": {},
   "source": [
    "Silling, S. A., & Askari, E. (2005). *A meshfree method based on the peridynamic model of solid mechanics*. *Computers & Structures, 83*(17-18), 1526-1535. https://doi.org/10.1016/j.compstruc.2004.11.026"
   ]
  },
  {
   "cell_type": "markdown",
   "metadata": {},
   "source": [
    "## Setup"
   ]
  },
  {
   "cell_type": "markdown",
   "metadata": {},
   "source": [
    "### Load Python Libraries"
   ]
  },
  {
   "cell_type": "markdown",
   "metadata": {},
   "source": [
    "- **NumPy:** This library is fundamental for numerical computations in Python. It provides support for arrays, matrices, and many mathematical functions that operate on these data structures.\n",
    "- **Matplotlib:** A plotting library for creating static, animated, and interactive visualizations in Python. It's particularly useful for generating plots, histograms, and other types of charts.\n",
    "- **Pandas:** A Python library used for working with data sets. It has functions for analyzing, cleaning, exploring, and manipulating data.\n",
    "- **Seaborn:** This Python library helps users visualize data through statistical graphics.\n",
    "- **SciPy (KDTree):** This module in SciPy provides efficient nearest-neighbor and range search operations in k-dimensional space.\n",
    "- **Celluloid:** This Python library simplifies the process of creating animations by capturing each frame in Matplotlib.\n",
    "- **IPython.display.HTML:** This module from IPython is used to display rich HTML content within Jupyter notebooks, helpful for embedding animations and media.\n",
    "- **PillowWriter:** This writer class in Matplotlib saves animations in GIF format, particularly useful when working with the FuncAnimation class to create smooth animations."
   ]
  },
  {
   "cell_type": "code",
   "execution_count": 3,
   "metadata": {},
   "outputs": [],
   "source": [
    "import numpy as np  \n",
    "import matplotlib.pyplot as plt \n",
    "from matplotlib.animation import FuncAnimation, PillowWriter\n",
    "from matplotlib import cm\n",
    "import pandas as pd  \n",
    "import seaborn as sns\n",
    "from scipy.spatial import KDTree\n",
    "from celluloid import Camera\n",
    "from IPython.display import HTML"
   ]
  },
  {
   "cell_type": "markdown",
   "metadata": {},
   "source": [
    "## Parameters"
   ]
  },
  {
   "cell_type": "markdown",
   "metadata": {},
   "source": [
    "<center><img src=\"fig4-square_plate_containing_an_initial_center_crack.gif\"/></center>\n",
    "<br><br> <center> Figure - Square Plate Containing an Initial Center Crack (Silling & Askari, 2005) </center>"
   ]
  },
  {
   "cell_type": "code",
   "execution_count": 50,
   "metadata": {},
   "outputs": [],
   "source": [
    "#Define the dimensions of the 2D Plate\n",
    "length = 0.05                #Length of the plate\n",
    "width = 0.05               #Width of the plate\n",
    "\n",
    "#Definte the number of nodes in x & y directions\n",
    "nx = 50                     #Number of nodes in x-direction\n",
    "ny = 50                     #Number of nodes in y-direction\n",
    "\n",
    "#Crack\n",
    "a0 = 5                      #Half length of the initial center crack \n",
    "crack_length = 2 * a0       #Total length of the initial center crack\n",
    "\n",
    "#Other Properties  \n",
    "dx = length/nx              #Spacing\n",
    "num_boundary_rows = 3       #Number of boundary regions\n",
    "total_nodes = nx * (ny + (num_boundary_rows*2)) #Total number of nodes in the 2D plate\n",
    "delta_x = 1.6 #3.015 * dx          #Horizon\n",
    "radius_of_node = dx / 2     #Radius around the node\n",
    "area_of_node = dx * dx      #Area of the radius around the node\n",
    "vol = area_of_node * dx     #Volume of the node\n",
    "thick = dx                  #Total thickness of the plate\n",
    "rho = 8000                 #Density\n",
    "E = 192e9                   #Elastic Modulus\n",
    "c = (9 * E ) / (np.pi * thick * delta_x**3) #Material constant\n",
    "poisson_ratio = 1/3         #Poisson's ratio\n",
    "critical_stretch = 0.02     #Critical stretch for bond failure\n",
    "\n",
    "#Time\n",
    "dt = np.sqrt(2 * rho * dx / (np.pi * delta_x**2 * dx * c))\n",
    "total_time = 15             #Total time of simulation\n",
    "delta_t = 0.012\n",
    "total_time_steps = int(total_time/delta_t)"
   ]
  },
  {
   "cell_type": "code",
   "execution_count": 63,
   "metadata": {},
   "outputs": [
    {
     "data": {
      "text/plain": [
       "(1000000,)"
      ]
     },
     "execution_count": 63,
     "metadata": {},
     "output_type": "execute_result"
    }
   ],
   "source": [
    "nodefam.shape"
   ]
  },
  {
   "cell_type": "markdown",
   "metadata": {},
   "source": [
    "## Create Grid Geometry"
   ]
  },
  {
   "cell_type": "code",
   "execution_count": 51,
   "metadata": {},
   "outputs": [],
   "source": [
    "# Generate internal region points\n",
    "x_internal = np.linspace(-length / 2 + dx / 2, length / 2 - dx / 2, nx)\n",
    "y_internal = np.linspace(-width / 2 + dx / 2, width / 2 - dx / 2, ny)\n",
    "X_internal, Y_internal = np.meshgrid(x_internal, y_internal)\n",
    "internal_points = np.column_stack((X_internal.ravel(), Y_internal.ravel()))\n",
    "\n",
    "# Generate boundary region points (bottom and top)\n",
    "x_boundary = np.linspace(-length / 2 + dx / 2, length / 2 - dx / 2, nx)\n",
    "y_bottom = np.linspace(-width / 2 - dx / 2, -width / 2 - num_boundary_rows * dx + dx / 2, num_boundary_rows)\n",
    "y_top = np.linspace(width / 2 + dx / 2, width / 2 + num_boundary_rows * dx - dx / 2, num_boundary_rows)\n",
    "\n",
    "X_bottom, Y_bottom = np.meshgrid(x_boundary, y_bottom)\n",
    "X_top, Y_top = np.meshgrid(x_boundary, y_top)\n",
    "\n",
    "bottom_points = np.column_stack((X_bottom.ravel(), Y_bottom.ravel()))\n",
    "top_points = np.column_stack((X_top.ravel(), Y_top.ravel()))\n",
    "\n",
    "# Combine all points\n",
    "coord = np.zeros((total_nodes, 2))\n",
    "coord = np.vstack((internal_points, bottom_points, top_points))"
   ]
  },
  {
   "cell_type": "markdown",
   "metadata": {},
   "source": [
    "## Create Failure Matrix"
   ]
  },
  {
   "cell_type": "code",
   "execution_count": 60,
   "metadata": {},
   "outputs": [
    {
     "ename": "ValueError",
     "evalue": "could not broadcast input array from shape (2800,) into shape (400,)",
     "output_type": "error",
     "traceback": [
      "\u001b[1;31m---------------------------------------------------------------------------\u001b[0m",
      "\u001b[1;31mValueError\u001b[0m                                Traceback (most recent call last)",
      "\u001b[1;32m~\\AppData\\Local\\Temp/ipykernel_38556/888578853.py\u001b[0m in \u001b[0;36m<module>\u001b[1;34m\u001b[0m\n\u001b[0;32m     29\u001b[0m \u001b[1;33m\u001b[0m\u001b[0m\n\u001b[0;32m     30\u001b[0m     \u001b[1;31m# Store family member indices in `nodefam` ensuring exact matches with original code\u001b[0m\u001b[1;33m\u001b[0m\u001b[1;33m\u001b[0m\u001b[0m\n\u001b[1;32m---> 31\u001b[1;33m     \u001b[0mnodefam\u001b[0m\u001b[1;33m[\u001b[0m\u001b[0mcurrent_index\u001b[0m\u001b[1;33m:\u001b[0m\u001b[0mcurrent_index\u001b[0m \u001b[1;33m+\u001b[0m \u001b[0mnum_members\u001b[0m\u001b[1;33m]\u001b[0m \u001b[1;33m=\u001b[0m \u001b[0mfamily_members\u001b[0m\u001b[1;33m[\u001b[0m\u001b[1;33m:\u001b[0m\u001b[0mnum_members\u001b[0m\u001b[1;33m]\u001b[0m\u001b[1;33m\u001b[0m\u001b[1;33m\u001b[0m\u001b[0m\n\u001b[0m\u001b[0;32m     32\u001b[0m \u001b[1;33m\u001b[0m\u001b[0m\n\u001b[0;32m     33\u001b[0m     \u001b[1;31m# Move the current index forward\u001b[0m\u001b[1;33m\u001b[0m\u001b[1;33m\u001b[0m\u001b[0m\n",
      "\u001b[1;31mValueError\u001b[0m: could not broadcast input array from shape (2800,) into shape (400,)"
     ]
    }
   ],
   "source": [
    "#Define the maximum number of nodes that can be captured inside the horizon \n",
    "max_family_length = 100\n",
    "\n",
    "fail_matrix = np.ones((total_nodes, max_family_length), dtype=int)\n",
    "\n",
    "# Arrays to track the family members\n",
    "pointfam = np.zeros(total_nodes, dtype=int)\n",
    "numfam = np.zeros(total_nodes, dtype=int)\n",
    "nodefam = np.zeros(1000000, dtype=int)\n",
    "\n",
    "# Create a KDTree for efficient neighbor search\n",
    "tree = KDTree(coord)\n",
    "\n",
    "# Find all family members within the specified horizon distance `delta`\n",
    "all_family_members = tree.query_ball_tree(tree, r=delta_x)\n",
    "\n",
    "# Fill 'numfam', 'nodefam', and 'pointfam' arrays\n",
    "current_index = 0  # Track the current position in nodefam\n",
    "\n",
    "for i in range(total_nodes):\n",
    "    family_members = np.array(all_family_members[i], dtype=int)  # Get family members' indices as numpy array\n",
    "    num_members = len(family_members)  # Number of family members\n",
    "\n",
    "    # Store the number of family members\n",
    "    numfam[i] = num_members\n",
    "\n",
    "    # Update the `pointfam` array\n",
    "    pointfam[i] = current_index\n",
    "\n",
    "    # Store family member indices in `nodefam` ensuring exact matches with original code\n",
    "    nodefam[current_index:current_index + num_members] = family_members[:num_members]\n",
    "\n",
    "    # Move the current index forward\n",
    "    current_index += num_members\n",
    "\n",
    "# Trim unused space in `nodefam` for efficiency\n",
    "nodefam = nodefam[:current_index]\n",
    "\n"
   ]
  },
  {
   "cell_type": "code",
   "execution_count": 58,
   "metadata": {},
   "outputs": [
    {
     "data": {
      "text/plain": [
       "array([   0,    1,    2, ..., 2797, 2798, 2799])"
      ]
     },
     "execution_count": 58,
     "metadata": {},
     "output_type": "execute_result"
    }
   ],
   "source": [
    "nodefam"
   ]
  },
  {
   "cell_type": "code",
   "execution_count": null,
   "metadata": {},
   "outputs": [],
   "source": []
  }
 ],
 "metadata": {
  "kernelspec": {
   "display_name": "base",
   "language": "python",
   "name": "python3"
  },
  "language_info": {
   "codemirror_mode": {
    "name": "ipython",
    "version": 3
   },
   "file_extension": ".py",
   "mimetype": "text/x-python",
   "name": "python",
   "nbconvert_exporter": "python",
   "pygments_lexer": "ipython3",
   "version": "3.9.7"
  }
 },
 "nbformat": 4,
 "nbformat_minor": 2
}
