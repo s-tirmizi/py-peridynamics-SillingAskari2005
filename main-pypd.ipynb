{
 "cells": [
  {
   "cell_type": "markdown",
   "metadata": {},
   "source": [
    "# **Simulation of a crack growth in a square plate based on Peridynamic Theory**"
   ]
  },
  {
   "cell_type": "markdown",
   "metadata": {},
   "source": [
    "Silling, S. A., & Askari, E. (2005). *A meshfree method based on the peridynamic model of solid mechanics*. *Computers & Structures, 83*(17-18), 1526-1535. https://doi.org/10.1016/j.compstruc.2004.11.026"
   ]
  },
  {
   "cell_type": "markdown",
   "metadata": {},
   "source": [
    "## Setup"
   ]
  },
  {
   "cell_type": "markdown",
   "metadata": {},
   "source": [
    "### Load Python Libraries"
   ]
  },
  {
   "cell_type": "markdown",
   "metadata": {},
   "source": [
    "- **NumPy:** This library is fundamental for numerical computations in Python. It provides support for arrays, matrices, and many mathematical functions that operate on these data structures.\n",
    "- **Matplotlib:** A plotting library for creating static, animated, and interactive visualizations in Python. It's particularly useful for generating plots, histograms, and other types of charts.\n",
    "- **Pandas:** A Python library used for working with data sets. It has functions for analyzing, cleaning, exploring, and manipulating data.\n",
    "- **Seaborn:** This Python library helps users visualize data through statistical graphics.\n",
    "- **Celluloid:** This Python library simplifies the process of creating animations by capturing each frame in Matplotlib.\n",
    "- **IPython.display.HTML:** This module from IPython is used to display rich HTML content within Jupyter notebooks, helpful for embedding animations and media.\n",
    "- **PillowWriter:** This writer class in Matplotlib saves animations in GIF format, particularly useful when working with the FuncAnimation class to create smooth animations."
   ]
  },
  {
   "cell_type": "code",
   "execution_count": 1,
   "metadata": {},
   "outputs": [],
   "source": [
    "import numpy as np  \n",
    "import matplotlib.pyplot as plt \n",
    "from matplotlib.animation import FuncAnimation, PillowWriter\n",
    "from matplotlib import cm\n",
    "import pandas as pd  \n",
    "import seaborn as sns\n",
    "from celluloid import Camera\n",
    "from IPython.display import HTML"
   ]
  },
  {
   "cell_type": "markdown",
   "metadata": {},
   "source": [
    "## Parameters"
   ]
  },
  {
   "cell_type": "markdown",
   "metadata": {},
   "source": [
    "<center><img src=\"fig4-square_plate_containing_an_initial_center_crack.gif\"/></center>\n",
    "<br><br> <center> Figure - Square Plate Containing an Initial Center Crack (Silling & Askari, 2005) </center>"
   ]
  },
  {
   "cell_type": "code",
   "execution_count": 17,
   "metadata": {},
   "outputs": [],
   "source": [
    "#Define the dimensions of the 2D Plate\n",
    "length = 0.05                #Length of the plate\n",
    "width = 0.05                 #width of the plate\n",
    "\n",
    "#Definte the number of nodes in x & y directions\n",
    "nx = 50                     #Number of nodes in x-direction\n",
    "ny = 50                     #Number of nodes in y-direction\n",
    "\n",
    "#Crack\n",
    "a0 = 0.005                  #Half length of the initial center crack \n",
    "crack_length = 2 * a0       #Total length of the initial center crack\n",
    "\n",
    "#Other Properties  \n",
    "dx = length/nx              #Spacing\n",
    "num_boundary_rows = 3       #Number of boundary regions\n",
    "total_nodes = nx * (ny + (num_boundary_rows*2)) #Total number of nodes in the 2D plate\n",
    "delta_x = 3.015 * dx          #Horizon\n",
    "radius_of_node = dx / 2     #Radius around the node\n",
    "area_of_node = dx * dx      #Area of the radius around the node\n",
    "vol = area_of_node * dx     #Volume of the node\n",
    "thick = dx                  #Total thickness of the plate\n",
    "rho = 8000                 #rhoity\n",
    "E = 192e9                   #Elastic Modulus\n",
    "poisson_ratio = 1/3         #Poisson's ratio\n",
    "k = E / (3*(1-2*poisson_ratio))\n",
    "c = 18 * k / np.pi / delta_x**4\n",
    "#c = (9 * E ) / (np.pi * thick * delta_x**3) #Material constant\n",
    "\n",
    "critical_stretch = 1     #Critical stretch for bond fail_matrixure\n",
    "\n",
    "#Time\n",
    "total_time = 15e-6             #Total time of simulation\n",
    "delta_t = 1.2e-8\n",
    "\"\"\"\n",
    "k = E / (3 * ( 1- (2*poisson_ratio)))\n",
    "c = (18*k)/(np.pi*delta_x**4)\n",
    "delta_t = np.sqrt(2*rho/(c*vol))\n",
    "delta_t\n",
    "\"\"\"\n",
    "total_time_steps = int(total_time/delta_t)"
   ]
  },
  {
   "cell_type": "markdown",
   "metadata": {},
   "source": [
    "## Create Grid Geometry"
   ]
  },
  {
   "cell_type": "code",
   "execution_count": 3,
   "metadata": {},
   "outputs": [],
   "source": [
    "# Generate internal region points\n",
    "x_internal = np.linspace(-length / 2 + dx / 2, length / 2 - dx / 2, nx)\n",
    "y_internal = np.linspace(-width / 2 + dx / 2, width / 2 - dx / 2, ny)\n",
    "X_internal, Y_internal = np.meshgrid(x_internal, y_internal)\n",
    "internal_points = np.column_stack((X_internal.ravel(), Y_internal.ravel()))\n",
    "\n",
    "# Generate boundary region points (bottom and top)\n",
    "x_boundary = np.linspace(-length / 2 + dx / 2, length / 2 - dx / 2, nx)\n",
    "y_bottom = np.linspace(-width / 2 - dx / 2, -width / 2 - num_boundary_rows * dx + dx / 2, num_boundary_rows)\n",
    "y_top = np.linspace(width / 2 + dx / 2, width / 2 + num_boundary_rows * dx - dx / 2, num_boundary_rows)\n",
    "\n",
    "X_bottom, Y_bottom = np.meshgrid(x_boundary, y_bottom)\n",
    "X_top, Y_top = np.meshgrid(x_boundary, y_top)\n",
    "\n",
    "bottom_points = np.column_stack((X_bottom.ravel(), Y_bottom.ravel()))\n",
    "top_points = np.column_stack((X_top.ravel(), Y_top.ravel()))\n",
    "\n",
    "# Combine all points\n",
    "coord = np.zeros((total_nodes, 2))\n",
    "coord = np.vstack((internal_points, bottom_points, top_points))\n",
    "\n",
    "#Count total number of nodes \n",
    "total_internal_nodes = len(internal_points)\n",
    "total_bottom_nodes = total_internal_nodes + len(bottom_points)\n",
    "total_top_nodes = total_bottom_nodes + len(top_points)"
   ]
  },
  {
   "cell_type": "markdown",
   "metadata": {},
   "source": [
    "## Create Binary Failure Matrix"
   ]
  },
  {
   "cell_type": "code",
   "execution_count": 4,
   "metadata": {},
   "outputs": [],
   "source": [
    "#initialization of fail_matrix flag array\n",
    "maxfam = 100 #Max number of material points inside the horizon of the material point\n",
    "\n",
    "fail_matrix = np.ones((total_nodes, maxfam), dtype=int)\n",
    "\n",
    "# Arrays to track the family members\n",
    "nodes_idx_array = np.zeros(total_nodes, dtype=int)\n",
    "total_in_families_array = np.zeros(total_nodes, dtype=int)\n",
    "nodes_idx_in_families_array = np.zeros(100000000, dtype=int)\n",
    "\n",
    "#Calculate pairwise distances using broadcasting\n",
    "dist_matrix = np.sqrt(np.sum((coord[:, np.newaxis, :] - coord[np.newaxis, :, :]) ** 2, axis = 2))\n",
    "\n",
    "#Set diagonal to infinity to avoid self-selection\n",
    "np.fill_diagonal(dist_matrix, np.inf)\n",
    "\n",
    "#Identify family members for each material point\n",
    "within_horizon = dist_matrix <= delta_x\n",
    "\n",
    "#Fill 'total_in_families_array', 'nodes_idx_in_families_array', and 'nodes_idx_array' arrays\n",
    "current_index = 0 #Track the current position in nodes_idx_in_families_array\n",
    "\n",
    "for i in range(total_nodes):\n",
    "    family_members = np.where(within_horizon[i])[0]  # Get family members' indices\n",
    "    num_members = len(family_members)  # Number of family members\n",
    "\n",
    "    # Store the number of family members\n",
    "    total_in_families_array[i] = num_members\n",
    "\n",
    "    # Update the `nodes_idx_array` array\n",
    "    nodes_idx_array[i] = current_index\n",
    "\n",
    "    # Store family member indices in `nodes_idx_in_families_array`\n",
    "    nodes_idx_in_families_array[current_index:current_index + num_members] = family_members\n",
    "\n",
    "    # Move the current index forward\n",
    "    current_index += num_members\n",
    "\n",
    "# Trim unused space in `nodes_idx_in_families_array` for efficiency\n",
    "nodes_idx_in_families_array = nodes_idx_in_families_array[:current_index]"
   ]
  },
  {
   "cell_type": "markdown",
   "metadata": {},
   "source": [
    "### Insert Crack"
   ]
  },
  {
   "cell_type": "code",
   "execution_count": 6,
   "metadata": {},
   "outputs": [],
   "source": [
    "# Flattened coordinates for easier vectorized operations\n",
    "x_coords = coord[:, 0]\n",
    "y_coords = coord[:, 1]\n",
    "\n",
    "# Create a boolean mask to identify if a bond penetrates the crack\n",
    "def bond_penetrates_crack(i, selected_node):\n",
    "    return (\n",
    "        (y_coords[selected_node] > 0.0 and y_coords[i] < 0.0) or \n",
    "        (y_coords[i] > 0.0 and y_coords[selected_node] < 0.0)\n",
    "    )\n",
    "\n",
    "def is_crack_position(x):\n",
    "    return abs(x) <= crack_length / 2.0 + 1.0e-10\n",
    "\n",
    "# Loop through nodes and their families\n",
    "for i in range(total_nodes):\n",
    "    for j in range(total_in_families_array[i]):\n",
    "        selected_node = nodes_idx_in_families_array[nodes_idx_array[i] + j]\n",
    "\n",
    "        # Check if the bond penetrates the crack surface\n",
    "        if bond_penetrates_crack(i, selected_node):\n",
    "            if is_crack_position(x_coords[i]) or is_crack_position(x_coords[selected_node]):\n",
    "                fail_matrix[i, j] = 0"
   ]
  },
  {
   "cell_type": "markdown",
   "metadata": {},
   "source": [
    "### Displacement Calculations"
   ]
  },
  {
   "cell_type": "code",
   "execution_count": 7,
   "metadata": {},
   "outputs": [],
   "source": [
    "# Initialize\n",
    "vel = np.zeros((total_nodes, 2))  # Velocity of material points\n",
    "disp = np.zeros((total_nodes, 2))  # Displacement of material points\n",
    "bforce = np.zeros((total_nodes, 2)) \n",
    "\n",
    "\n",
    "peridynamic_force = np.zeros((total_nodes, 2))  # total peridynamic force acting on a material point\n",
    "acc = np.zeros((total_nodes, 2))  # acceleration of a material point\n",
    "result_array = np.zeros((total_time_steps, total_internal_nodes, 4))  # Peridynamic displacement and Analytical displacement of all points at all time steps\n",
    "\n",
    "for iteration in range(1, total_time_steps + 1):\n",
    "    \n",
    "    current_time = iteration * delta_t\n",
    "\n",
    "    # Application of boundary conditions at the top and bottom edges\n",
    "    vel[total_internal_nodes:total_bottom_nodes, 1] = -20.0\n",
    "    disp[total_internal_nodes:total_bottom_nodes, 1] = -20.0 * iteration * delta_t\n",
    "\n",
    "    vel[total_bottom_nodes:total_top_nodes, 1] = 20.0\n",
    "    disp[total_bottom_nodes:total_top_nodes, 1] = 20.0 * iteration * delta_t\n",
    "\n",
    "    peridynamic_force[:, :] = 0.0\n",
    "\n",
    "    for i in range(total_internal_nodes):\n",
    "        cnode_start = nodes_idx_array[i]\n",
    "        cnode_end = cnode_start + total_in_families_array[i]\n",
    "        cnode_indices = nodes_idx_in_families_array[cnode_start:cnode_end]\n",
    "        ccoords = coord[cnode_indices]\n",
    "        cdisps = disp[cnode_indices]\n",
    "        ksi = np.sqrt((ccoords[:, 0] - coord[i, 0]) ** 2 + (ccoords[:, 1] - coord[i, 1]) ** 2)\n",
    "        eta = np.sqrt((ccoords[:, 0] + cdisps[:, 0] - coord[i, 0] - disp[i, 0]) ** 2 + (ccoords[:, 1] + cdisps[:, 1] - coord[i, 1] - disp[i, 1]) ** 2)\n",
    "\n",
    "        fail_mask = fail_matrix[i, :total_in_families_array[i]] == 1\n",
    "        dforce1 = np.where(fail_mask, c * (eta - ksi) / ksi * vol * (ccoords[:, 0] + cdisps[:, 0] - coord[i, 0] - disp[i, 0]) / eta, 0.0)\n",
    "        dforce2 = np.where(fail_mask, c * (eta - ksi) / ksi * vol * (ccoords[:, 1] + cdisps[:, 1] - coord[i, 1] - disp[i, 1]) / eta, 0.0)\n",
    "\n",
    "        peridynamic_force[i, 0] += np.sum(dforce1)\n",
    "        peridynamic_force[i, 1] += np.sum(dforce2)\n",
    "\n",
    "        no_fail_zone = (np.abs((eta - ksi) / ksi) > critical_stretch) & (np.abs(coord[i, 1]) <= (length / 4.0))\n",
    "        fail_matrix[i, :total_in_families_array[i]] = np.where(no_fail_zone, 0, fail_matrix[i, :total_in_families_array[i]])\n",
    "\n",
    "\n",
    "    acc = (peridynamic_force + bforce) / rho\n",
    "    vel[:total_internal_nodes] += acc[:total_internal_nodes] * delta_t\n",
    "    disp[:total_internal_nodes] += vel[:total_internal_nodes] * delta_t\n",
    "\n",
    "    acc[total_internal_nodes:total_bottom_nodes, 0] = (peridynamic_force[total_internal_nodes:total_bottom_nodes, 0] + bforce[total_internal_nodes:total_bottom_nodes, 0]) / rho\n",
    "    vel[total_internal_nodes:total_bottom_nodes, 0] += acc[total_internal_nodes:total_bottom_nodes, 0] * delta_t\n",
    "    disp[total_internal_nodes:total_bottom_nodes, 0] += vel[total_internal_nodes:total_bottom_nodes, 0] * delta_t\n",
    "\n",
    "    acc[total_bottom_nodes:total_top_nodes, 0] = (peridynamic_force[total_bottom_nodes:total_top_nodes, 0] + bforce[total_bottom_nodes:total_top_nodes, 0]) / rho\n",
    "    vel[total_bottom_nodes:total_top_nodes, 0] += acc[total_bottom_nodes:total_top_nodes, 0] * delta_t\n",
    "    disp[total_bottom_nodes:total_top_nodes, 0] += vel[total_bottom_nodes:total_top_nodes, 0] * delta_t\n",
    "\n",
    "    result_array[iteration - 1, :, :4] = np.hstack((coord[:total_internal_nodes], disp[:total_internal_nodes]))"
   ]
  },
  {
   "cell_type": "code",
   "execution_count": 16,
   "metadata": {},
   "outputs": [
    {
     "data": {
      "image/png": "[encoded data removed]",
      "text/plain": [
       "<Figure size 432x288 with 1 Axes>"
      ]
     },
     "metadata": {
      "needs_background": "light"
     },
     "output_type": "display_data"
    }
   ],
   "source": [
    "fig = plt.figure()  # Create a figure object\n",
    "camera = Camera(fig)\n",
    "ax = fig.add_subplot(1, 1, 1)  # Add a subplot to the figure\n",
    "\n",
    "# Loop over time steps and create scatter plot\n",
    "for current_time_step in range(total_time_steps):\n",
    "    # Instead of clearing axis, directly update the plot data if possible\n",
    "    scatter = ax.scatter(\n",
    "        result_array[current_time_step, :, 0] + result_array[current_time_step, :, 2],\n",
    "        result_array[current_time_step, :, 1] + result_array[current_time_step, :, 3],\n",
    "        c=np.sqrt(result_array[current_time_step, :, 2]**2 + result_array[current_time_step, :, 3]**2),\n",
    "        cmap='jet'\n",
    "    )\n",
    "    ax.set_xlim(-0.03, 0.03)  # Set appropriate x-axis limits\n",
    "    ax.set_ylim(-0.03, 0.03)  # Set appropriate y-axis limits\n",
    "    camera.snap()\n",
    "\n",
    "# Create animation from captured frames\n",
    "anim = camera.animate(blit=False)\n",
    "\n",
    "# Save the animation as a GIF using PillowWriter\n",
    "anim.save('scatter_plot_animation26.gif', writer='pillow', fps=60)"
   ]
  },
  {
   "cell_type": "code",
   "execution_count": null,
   "metadata": {},
   "outputs": [],
   "source": []
  }
 ],
 "metadata": {
  "kernelspec": {
   "display_name": "base",
   "language": "python",
   "name": "python3"
  },
  "language_info": {
   "codemirror_mode": {
    "name": "ipython",
    "version": 3
   },
   "file_extension": ".py",
   "mimetype": "text/x-python",
   "name": "python",
   "nbconvert_exporter": "python",
   "pygments_lexer": "ipython3",
   "version": "3.9.7"
  }
 },
 "nbformat": 4,
 "nbformat_minor": 2
}
